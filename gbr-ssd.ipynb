{
 "cells": [
  {
   "cell_type": "code",
   "execution_count": null,
   "id": "878e878f",
   "metadata": {
    "execution": {
     "iopub.execute_input": "2022-03-10T13:21:24.823645Z",
     "iopub.status.busy": "2022-03-10T13:21:24.823093Z",
     "iopub.status.idle": "2022-03-10T13:21:25.580327Z",
     "shell.execute_reply": "2022-03-10T13:21:25.579757Z",
     "shell.execute_reply.started": "2022-03-10T13:12:09.199396Z"
    },
    "papermill": {
     "duration": 0.774719,
     "end_time": "2022-03-10T13:21:25.580477",
     "exception": false,
     "start_time": "2022-03-10T13:21:24.805758",
     "status": "completed"
    },
    "tags": []
   },
   "outputs": [],
   "source": [
    "!cp -r ../input/ssdpytorch/* ./"
   ]
  },
  {
   "cell_type": "code",
   "execution_count": null,
   "id": "d31d010f",
   "metadata": {
    "execution": {
     "iopub.execute_input": "2022-03-10T13:21:25.597328Z",
     "iopub.status.busy": "2022-03-10T13:21:25.596479Z",
     "iopub.status.idle": "2022-03-10T13:21:29.253237Z",
     "shell.execute_reply": "2022-03-10T13:21:29.252777Z",
     "shell.execute_reply.started": "2022-03-10T13:12:10.018153Z"
    },
    "papermill": {
     "duration": 3.666487,
     "end_time": "2022-03-10T13:21:29.253364",
     "exception": false,
     "start_time": "2022-03-10T13:21:25.586877",
     "status": "completed"
    },
    "tags": []
   },
   "outputs": [],
   "source": [
    "from ProtectTheGreatBarrierReef.ssd import TrainModel\n",
    "from ProtectTheGreatBarrierReef.gbr import get_dataloader"
   ]
  },
  {
   "cell_type": "code",
   "execution_count": null,
   "id": "b4774769",
   "metadata": {
    "execution": {
     "iopub.execute_input": "2022-03-10T13:21:29.270386Z",
     "iopub.status.busy": "2022-03-10T13:21:29.269865Z",
     "iopub.status.idle": "2022-03-10T13:21:29.549245Z",
     "shell.execute_reply": "2022-03-10T13:21:29.548759Z",
     "shell.execute_reply.started": "2022-03-10T13:12:13.623427Z"
    },
    "papermill": {
     "duration": 0.289899,
     "end_time": "2022-03-10T13:21:29.549369",
     "exception": false,
     "start_time": "2022-03-10T13:21:29.259470",
     "status": "completed"
    },
    "tags": []
   },
   "outputs": [],
   "source": [
    "train_dataloader, val_dataloader = get_dataloader(\"../input/tensorflow-great-barrier-reef\")"
   ]
  },
  {
   "cell_type": "code",
   "execution_count": null,
   "id": "58b21bdd",
   "metadata": {
    "execution": {
     "iopub.execute_input": "2022-03-10T13:21:29.615010Z",
     "iopub.status.busy": "2022-03-10T13:21:29.614353Z",
     "iopub.status.idle": "2022-03-10T13:21:30.476290Z",
     "shell.execute_reply": "2022-03-10T13:21:30.475750Z",
     "shell.execute_reply.started": "2022-03-10T13:12:13.909264Z"
    },
    "papermill": {
     "duration": 0.921061,
     "end_time": "2022-03-10T13:21:30.476414",
     "exception": false,
     "start_time": "2022-03-10T13:21:29.555353",
     "status": "completed"
    },
    "tags": []
   },
   "outputs": [],
   "source": [
    "trainer = TrainModel(\n",
    "    epochs=150, es_patience=15, train_dl=train_dataloader, val_dl=val_dataloader,\n",
    "    lr=1e-3, seed=71, vgg_weight_path=\"../input/vgg16-weight/vgg16.pth\"\n",
    ")"
   ]
  },
  {
   "cell_type": "code",
   "execution_count": null,
   "id": "bb43a789",
   "metadata": {
    "execution": {
     "iopub.execute_input": "2022-03-10T13:21:30.494110Z",
     "iopub.status.busy": "2022-03-10T13:21:30.493493Z",
     "iopub.status.idle": "2022-03-10T18:15:12.148125Z",
     "shell.execute_reply": "2022-03-10T18:15:12.148564Z",
     "shell.execute_reply.started": "2022-03-10T13:12:15.187818Z"
    },
    "papermill": {
     "duration": 17621.666356,
     "end_time": "2022-03-10T18:15:12.148734",
     "exception": false,
     "start_time": "2022-03-10T13:21:30.482378",
     "status": "completed"
    },
    "tags": []
   },
   "outputs": [],
   "source": [
    "trainer.train()"
   ]
  }
 ],
 "metadata": {
  "kernelspec": {
   "display_name": "Python 3",
   "language": "python",
   "name": "python3"
  },
  "language_info": {
   "codemirror_mode": {
    "name": "ipython",
    "version": 3
   },
   "file_extension": ".py",
   "mimetype": "text/x-python",
   "name": "python",
   "nbconvert_exporter": "python",
   "pygments_lexer": "ipython3",
   "version": "3.9.5"
  },
  "papermill": {
   "default_parameters": {},
   "duration": 17638.858117,
   "end_time": "2022-03-10T18:15:15.403421",
   "environment_variables": {},
   "exception": null,
   "input_path": "__notebook__.ipynb",
   "output_path": "__notebook__.ipynb",
   "parameters": {},
   "start_time": "2022-03-10T13:21:16.545304",
   "version": "2.3.3"
  }
 },
 "nbformat": 4,
 "nbformat_minor": 5
}
