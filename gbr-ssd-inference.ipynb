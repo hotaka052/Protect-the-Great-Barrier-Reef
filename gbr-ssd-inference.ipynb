{
 "cells": [
  {
   "cell_type": "code",
   "execution_count": 1,
   "id": "486f4890",
   "metadata": {
    "execution": {
     "iopub.execute_input": "2022-03-11T03:32:44.770340Z",
     "iopub.status.busy": "2022-03-11T03:32:44.769452Z",
     "iopub.status.idle": "2022-03-11T03:32:45.631254Z",
     "shell.execute_reply": "2022-03-11T03:32:45.632112Z",
     "shell.execute_reply.started": "2022-03-11T03:31:32.122237Z"
    },
    "papermill": {
     "duration": 0.880981,
     "end_time": "2022-03-11T03:32:45.632553",
     "exception": false,
     "start_time": "2022-03-11T03:32:44.751572",
     "status": "completed"
    },
    "tags": []
   },
   "outputs": [],
   "source": [
    "!cp -r ../input/ssdpytorch/* ./"
   ]
  },
  {
   "cell_type": "code",
   "execution_count": 2,
   "id": "cf206abe",
   "metadata": {
    "execution": {
     "iopub.execute_input": "2022-03-11T03:32:45.658879Z",
     "iopub.status.busy": "2022-03-11T03:32:45.657833Z",
     "iopub.status.idle": "2022-03-11T03:32:50.024475Z",
     "shell.execute_reply": "2022-03-11T03:32:50.025193Z",
     "shell.execute_reply.started": "2022-03-11T03:31:33.018243Z"
    },
    "papermill": {
     "duration": 4.382981,
     "end_time": "2022-03-11T03:32:50.025379",
     "exception": false,
     "start_time": "2022-03-11T03:32:45.642398",
     "status": "completed"
    },
    "tags": []
   },
   "outputs": [],
   "source": [
    "from ProtectTheGreatBarrierReef.ssd import VisualizeBbox"
   ]
  },
  {
   "cell_type": "code",
   "execution_count": 3,
   "id": "1ff540e1",
   "metadata": {
    "execution": {
     "iopub.execute_input": "2022-03-11T03:32:50.041834Z",
     "iopub.status.busy": "2022-03-11T03:32:50.041206Z",
     "iopub.status.idle": "2022-03-11T03:32:51.982976Z",
     "shell.execute_reply": "2022-03-11T03:32:51.983535Z",
     "shell.execute_reply.started": "2022-03-11T03:31:36.789337Z"
    },
    "papermill": {
     "duration": 1.951917,
     "end_time": "2022-03-11T03:32:51.983751",
     "exception": false,
     "start_time": "2022-03-11T03:32:50.031834",
     "status": "completed"
    },
    "tags": []
   },
   "outputs": [],
   "source": [
    "ssd = VisualizeBbox(weight_path=\"../input/ssd-weight/ssd-weight.pth\")"
   ]
  },
  {
   "cell_type": "code",
   "execution_count": null,
   "id": "fb239bd2",
   "metadata": {
    "execution": {
     "iopub.execute_input": "2022-03-11T03:32:52.001651Z",
     "iopub.status.busy": "2022-03-11T03:32:52.001016Z",
     "iopub.status.idle": "2022-03-11T03:33:10.508589Z",
     "shell.execute_reply": "2022-03-11T03:33:10.509120Z",
     "shell.execute_reply.started": "2022-03-11T03:31:39.071653Z"
    },
    "papermill": {
     "duration": 18.518024,
     "end_time": "2022-03-11T03:33:10.509292",
     "exception": false,
     "start_time": "2022-03-11T03:32:51.991268",
     "status": "completed"
    },
    "tags": []
   },
   "outputs": [],
   "source": [
    "ssd.show(6)"
   ]
  }
 ],
 "metadata": {
  "kernelspec": {
   "display_name": "Python 3",
   "language": "python",
   "name": "python3"
  },
  "language_info": {
   "codemirror_mode": {
    "name": "ipython",
    "version": 3
   },
   "file_extension": ".py",
   "mimetype": "text/x-python",
   "name": "python",
   "nbconvert_exporter": "python",
   "pygments_lexer": "ipython3",
   "version": "3.7.12"
  },
  "papermill": {
   "default_parameters": {},
   "duration": 41.883153,
   "end_time": "2022-03-11T03:33:16.046735",
   "environment_variables": {},
   "exception": null,
   "input_path": "__notebook__.ipynb",
   "output_path": "__notebook__.ipynb",
   "parameters": {},
   "start_time": "2022-03-11T03:32:34.163582",
   "version": "2.3.3"
  }
 },
 "nbformat": 4,
 "nbformat_minor": 5
}
